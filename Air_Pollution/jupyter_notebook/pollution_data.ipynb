{
 "cells": [
  {
   "cell_type": "code",
   "execution_count": 1,
   "metadata": {},
   "outputs": [
    {
     "name": "stderr",
     "output_type": "stream",
     "text": [
      "Using TensorFlow backend.\n"
     ]
    }
   ],
   "source": [
    "import pandas as pd\n",
    "from pandas import read_csv\n",
    "from pandas import DataFrame\n",
    "from pandas import concat\n",
    "import datetime as dt\n",
    "\n",
    "import warnings\n",
    "import helpers\n",
    "warnings.filterwarnings('ignore')"
   ]
  },
  {
   "cell_type": "markdown",
   "metadata": {},
   "source": [
    "# A. Load data "
   ]
  },
  {
   "cell_type": "code",
   "execution_count": 2,
   "metadata": {},
   "outputs": [
    {
     "data": {
      "text/plain": [
       "(1010546, 10)"
      ]
     },
     "execution_count": 2,
     "metadata": {},
     "output_type": "execute_result"
    }
   ],
   "source": [
    "import pandas as pd\n",
    "import glob\n",
    "\n",
    "# make sure that there is only 1 AQI for each day \n",
    "# df_state.groupby(\"Date\").count().unstack().reset_index().rename(columns={0: \"count\"})[\"count\"].max()\n",
    "\n",
    "path = r'../data_options/data_air_raw/daily_aqi_by_county_' # use your path\n",
    "all_files = [path + str(year) + \".csv\" for year in [2016,2017,2018]]\n",
    "\n",
    "current_dataframe = []\n",
    "for filename in all_files:\n",
    "    temp = pd.read_csv(filename, index_col=None, header=0)\n",
    "    current_dataframe.append(temp)\n",
    "data_raw = pd.concat(current_dataframe, axis=0, ignore_index=True)\n",
    "data = helpers.data_cleaning(data_raw)"
   ]
  },
  {
   "cell_type": "markdown",
   "metadata": {},
   "source": [
    "# B. Air Pollution Data"
   ]
  },
  {
   "cell_type": "code",
   "execution_count": 10,
   "metadata": {},
   "outputs": [
    {
     "name": "stdout",
     "output_type": "stream",
     "text": [
      "---> Saving features to ../data_options/county_features_data/county_features_train/california_alpine_feature.csv\n"
     ]
    }
   ],
   "source": [
    "for county_name in list(data[\"state_county\"].unique())[50:51]:\n",
    "    df = (helpers.feature_engineering_for_AQI(\n",
    "              data, 30, \n",
    "              county_name, \n",
    "              \"../data_options/county_features_data/county_features_train/\")\n",
    "         )"
   ]
  },
  {
   "cell_type": "code",
   "execution_count": null,
   "metadata": {
    "collapsed": true
   },
   "outputs": [],
   "source": []
  }
 ],
 "metadata": {
  "kernelspec": {
   "display_name": "Python 3",
   "language": "python",
   "name": "python3"
  },
  "language_info": {
   "codemirror_mode": {
    "name": "ipython",
    "version": 3
   },
   "file_extension": ".py",
   "mimetype": "text/x-python",
   "name": "python",
   "nbconvert_exporter": "python",
   "pygments_lexer": "ipython3",
   "version": "3.6.1"
  }
 },
 "nbformat": 4,
 "nbformat_minor": 2
}
