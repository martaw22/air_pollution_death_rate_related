{
 "cells": [
  {
   "cell_type": "code",
   "execution_count": 2,
   "metadata": {},
   "outputs": [
    {
     "name": "stderr",
     "output_type": "stream",
     "text": [
      "Using TensorFlow backend.\n"
     ]
    }
   ],
   "source": [
    "import pandas as pd\n",
    "from pandas import read_csv\n",
    "from pandas import DataFrame\n",
    "from pandas import concat\n",
    "import numpy as np\n",
    "\n",
    "import tensorflow\n",
    "import time \n",
    "import warnings \n",
    "import numpy as np \n",
    "from numpy import newaxis \n",
    "from keras.layers.core import Dense, Activation, Dropout\n",
    "from keras.layers.recurrent import LSTM \n",
    "from keras.models import Sequential \n",
    "from sklearn.preprocessing import MinMaxScaler\n",
    "\n",
    "\n",
    "import time\n",
    "import math\n",
    "import matplotlib.pyplot as plt\n",
    "from keras.models import load_model\n",
    "\n",
    "import argparse\n",
    "\n",
    "import helpers\n",
    "import pickle"
   ]
  },
  {
   "cell_type": "code",
   "execution_count": 3,
   "metadata": {},
   "outputs": [],
   "source": [
    "def load_test_data(dataframe, scaler):\n",
    "    \n",
    "    if dataframe.shape[0] == 1:\n",
    "        pass\n",
    "    else:\n",
    "        raise Exception(\"Dataframe should be of size 1xn, i.e it should be one row containing all features\") \n",
    "    \n",
    "    feature_col = [col for col in dataframe.columns if col != \"AQI\"]\n",
    "    label_col = [\"AQI\"]\n",
    "\n",
    "    data = dataframe[feature_col + label_col]\n",
    "    test = scaler.transform(data)\n",
    "    test = np.array(test)\n",
    "    x_test = test[:, :-1]\n",
    "    \n",
    "    y_test = test[:, -1]\n",
    "    x_test = np.reshape(x_test, (x_test.shape[0], 1, x_test.shape[1]))\n",
    "    \n",
    "    return [x_test, y_test]"
   ]
  },
  {
   "cell_type": "code",
   "execution_count": null,
   "metadata": {},
   "outputs": [
    {
     "name": "stdout",
     "output_type": "stream",
     "text": [
      "---> Saving features to ../data_options/county_features_data/county_features_test/alabama_baldwin_feature.csv\n",
      "---> Loading model for county alabama_baldwin ...\n",
      "WARNING:tensorflow:From /Users/NghiTram/anaconda/lib/python3.6/site-packages/tensorflow/python/framework/op_def_library.py:263: colocate_with (from tensorflow.python.framework.ops) is deprecated and will be removed in a future version.\n",
      "Instructions for updating:\n",
      "Colocations handled automatically by placer.\n"
     ]
    }
   ],
   "source": [
    "if __name__ =='__main__':\n",
    "    \n",
    "    data2019_raw = pd.read_csv(\"../data_options/data_air_raw/daily_aqi_by_county_2019.csv\")\n",
    "    data2019 = helpers.data_cleaning(data2019_raw)\n",
    "    \n",
    "    predicted_date = \"2019-03-12\"\n",
    "    county = \"alabama_baldwin\"\n",
    "    \n",
    "    ## prepare data for specific county and specific date\n",
    "    data_state = data2019[data2019[\"state_county\"] == county]\n",
    "    data_state[\"predicted_date\"] = pd.to_datetime(predicted_date)\n",
    "    data_state[\"date_diff\"] = (data_state\n",
    "                               .apply(lambda x: (x[\"predicted_date\"] - pd.to_datetime(x[\"date\"])).days, \n",
    "                                      axis = 1))\n",
    "    data_feature = data_state[data_state[\"date_diff\"] >0]\n",
    "    data_feature = data_feature.sort_values(by=[\"date\"]).iloc[:30, :]\n",
    "    \n",
    "    ## feature engineering\n",
    "    data_feature_temp= (helpers\n",
    "                        .feature_engineering_for_AQI(\n",
    "                            data_feature, 30, \n",
    "                            county, \n",
    "                            \"../data_options/county_features_data/county_features_test/\"))\n",
    "    ## load model to predict AQI\n",
    "    print(\"---> Loading model for county {} ...\".format(county))\n",
    "    scaler_path = \"../data_options/MinMax_scaler_model/\" + county + \"_scaler.pickle\"\n",
    "    model_path = \"../data_options/county_AQI_model/\" + county + \"_model.h5\"\n",
    "    model = load_model(model_path)\n",
    "    mm_scaler = pickle.load(open( scaler_path, \"rb\" ))\n",
    "\n",
    "    X_test, y_test = load_test_data(data_feature_temp[\"data\"], mm_scaler)\n",
    "\n",
    "    ## predicting AQI\n",
    "    predictions = helpers.predict_point_by_point(model, X_test)\n",
    "    helpers.plot_results(predictions, y_test)\n",
    "\n",
    "    y = np.append(X_test, predictions.reshape( 1, 1, 1)).reshape(1,39)\n",
    "    predicted_AQI = mm_scaler.inverse_transform(y)[-1][-1]"
   ]
  },
  {
   "cell_type": "code",
   "execution_count": null,
   "metadata": {
    "collapsed": true
   },
   "outputs": [],
   "source": []
  }
 ],
 "metadata": {
  "kernelspec": {
   "display_name": "Python 3",
   "language": "python",
   "name": "python3"
  },
  "language_info": {
   "codemirror_mode": {
    "name": "ipython",
    "version": 3
   },
   "file_extension": ".py",
   "mimetype": "text/x-python",
   "name": "python",
   "nbconvert_exporter": "python",
   "pygments_lexer": "ipython3",
   "version": "3.6.1"
  }
 },
 "nbformat": 4,
 "nbformat_minor": 2
}
