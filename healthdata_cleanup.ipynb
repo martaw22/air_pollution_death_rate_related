{
 "cells": [
  {
   "cell_type": "code",
   "execution_count": 173,
   "metadata": {},
   "outputs": [],
   "source": [
    "import pandas as pd\n",
    "import os\n",
    "import csv\n",
    "import numpy as np"
   ]
  },
  {
   "cell_type": "code",
   "execution_count": null,
   "metadata": {},
   "outputs": [],
   "source": [
    "#dataframe of all respiratory deaths at the state level\n",
    "state_data = pd.read_csv('Underlying Cause of Death, 1999-2017_allyears_states.txt', sep='\\t')"
   ]
  },
  {
   "cell_type": "code",
   "execution_count": 330,
   "metadata": {},
   "outputs": [],
   "source": [
    "#Dataframe of state populations from 2000-2010\n",
    "state_pops_2000 = pd.read_csv('co-est00int-tot.csv', encoding='latin-1')\n",
    "#Dataframe of state populations from 2010-2018\n",
    "state_pops_2010 = pd.read_csv('co-est2018-alldata.csv', encoding='latin-1')"
   ]
  },
  {
   "cell_type": "code",
   "execution_count": 266,
   "metadata": {},
   "outputs": [
    {
     "name": "stderr",
     "output_type": "stream",
     "text": [
      "/Users/Marta/anaconda3/lib/python3.7/site-packages/ipykernel_launcher.py:7: FutureWarning: Sorting because non-concatenation axis is not aligned. A future version\n",
      "of pandas will change to not sort by default.\n",
      "\n",
      "To accept the future behavior, pass 'sort=False'.\n",
      "\n",
      "To retain the current behavior and silence the warning, pass 'sort=True'.\n",
      "\n",
      "  import sys\n"
     ]
    }
   ],
   "source": [
    "#counties_data = pd.read_csv('county_data/' + 'Underlying Cause of Death, 1999-2017_2001_counties.txt', sep='\\t')\n",
    "\n",
    "counties_data = pd.DataFrame()\n",
    "for file in os.listdir('county_data'):\n",
    "    #if file != 'Underlying Cause of Death, 1999-2017_2012_counties.txt':\n",
    "    new_year = pd.read_csv('county_data/' + file, sep='\\t', na_filter = False)\n",
    "    counties_data = pd.concat([counties_data, new_year], axis=0)\n"
   ]
  },
  {
   "cell_type": "code",
   "execution_count": 267,
   "metadata": {},
   "outputs": [],
   "source": [
    "col_list = ['Notes', 'Population', 'Crude Rate']\n",
    "for name in col_list:\n",
    "    counties_data = counties_data.drop(columns = name)\n",
    "\n"
   ]
  },
  {
   "cell_type": "code",
   "execution_count": 268,
   "metadata": {},
   "outputs": [],
   "source": [
    "def split_column_names(dataframe, column1, column2, column3, splitter):\n",
    "    '''This function creates a new dataframe that has one specified column from the original dataframe.\n",
    "    Then it adds two new columns to the original dataframe (or replaces one of the original columns if the names are \n",
    "    the same) with the split values.\n",
    "    \n",
    "    The column name inputs must be strings.\n",
    "    The splitter is the symbol or letter that is used to split the string.\n",
    "    '''\n",
    "    \n",
    "    new_df = dataframe[column1].str.split(splitter, n=1, expand=True)\n",
    "    dataframe[column2] = new_df[0]\n",
    "    dataframe[column3] = new_df[1]\n",
    "    \n",
    "    return dataframe\n",
    "    "
   ]
  },
  {
   "cell_type": "code",
   "execution_count": 269,
   "metadata": {},
   "outputs": [],
   "source": [
    "counties_data = split_column_names(counties_data, 'County', 'County', 'State Abr', ',')"
   ]
  },
  {
   "cell_type": "code",
   "execution_count": 271,
   "metadata": {},
   "outputs": [],
   "source": [
    "counties_data = split_column_names(counties_data, 'Month Code', 'Year', 'Month', '/')"
   ]
  },
  {
   "cell_type": "code",
   "execution_count": 94,
   "metadata": {},
   "outputs": [],
   "source": []
  },
  {
   "cell_type": "code",
   "execution_count": 138,
   "metadata": {},
   "outputs": [],
   "source": [
    "#Making a dataframe of the states and their abbreviations\n",
    "state_abrevs = pd.read_csv('state_abrevs.csv')"
   ]
  },
  {
   "cell_type": "code",
   "execution_count": 141,
   "metadata": {},
   "outputs": [],
   "source": [
    "#Renaming columns in the state abbrevs dataframe so that they match existing column names in the previous dataframes\n",
    "state_abrevs = state_abrevs.rename(columns={\"State\": \"STNAME\", 'State Abrev': 'State'})"
   ]
  },
  {
   "cell_type": "code",
   "execution_count": 155,
   "metadata": {},
   "outputs": [],
   "source": [
    "#Merging the state abrevs with the county population data for 2010\n",
    "state_pops_2010_mergetest = pd.merge(state_pops_2010[['STNAME', 'CTYNAME', 'CENSUS2010POP',\n",
    "       'ESTIMATESBASE2010', 'POPESTIMATE2010', 'POPESTIMATE2011',\n",
    "       'POPESTIMATE2012', 'POPESTIMATE2013', 'POPESTIMATE2014',\n",
    "       'POPESTIMATE2015', 'POPESTIMATE2016', 'POPESTIMATE2017',\n",
    "       'POPESTIMATE2018']], state_abrevs, on='STNAME')"
   ]
  },
  {
   "cell_type": "code",
   "execution_count": 213,
   "metadata": {},
   "outputs": [],
   "source": [
    "#Merging the state abrevs with the county population data for 2000\n",
    "state_pops_2000_mergetest = pd.merge(state_pops_2000[['STNAME', 'CTYNAME',\n",
    "       'POPESTIMATE2000', 'POPESTIMATE2001',\n",
    "       'POPESTIMATE2002', 'POPESTIMATE2003', 'POPESTIMATE2004',\n",
    "       'POPESTIMATE2005', 'POPESTIMATE2006', 'POPESTIMATE2007',\n",
    "       'POPESTIMATE2008', 'POPESTIMATE2009']], state_abrevs, on='STNAME')"
   ]
  },
  {
   "cell_type": "code",
   "execution_count": 284,
   "metadata": {},
   "outputs": [],
   "source": [
    "def changing_col_name(dataframe, name_before, name_after):\n",
    "    '''This function changes the name of one column and returns the dataframe.\n",
    "    '''\n",
    "    \n",
    "    return dataframe.rename(columns={name_before: name_after})"
   ]
  },
  {
   "cell_type": "code",
   "execution_count": 331,
   "metadata": {},
   "outputs": [],
   "source": [
    "state_pops_2010 = changing_col_name(state_pops_2010, 'CTYNAME', 'County')\n",
    "state_pops_2000 = changing_col_name(state_pops_2000, 'CTYNAME', 'County')\n",
    "state_pops_2010 = changing_col_name(state_pops_2010, 'STNAME', 'State')\n",
    "state_pops_2000 = changing_col_name(state_pops_2000, 'STNAME', 'State')"
   ]
  },
  {
   "cell_type": "code",
   "execution_count": 332,
   "metadata": {},
   "outputs": [],
   "source": [
    "#Merging county population data for 2010 with county death rates\n",
    "county_pop_merge = pd.merge(state_pops_2010, counties_data, on=['County','State'])\n"
   ]
  },
  {
   "cell_type": "code",
   "execution_count": 307,
   "metadata": {},
   "outputs": [],
   "source": [
    "#Merging county population data for 2000 with county death rates\n",
    "county_pop_merge_2000 = pd.merge(state_pops_2000, counties_data, on=['County', 'State'])\n"
   ]
  },
  {
   "cell_type": "code",
   "execution_count": 228,
   "metadata": {},
   "outputs": [],
   "source": [
    "#Checking to see if it matched the wrong county names anywhere\n",
    "#Need to work on this because right now it's not recognizing that the two columns have the same values in them\n",
    "county_pop_merge['que'] = np.where((county_pop_merge['State_x']==county_pop_merge['State_y']), county_pop_merge['State_y'], np.nan)"
   ]
  },
  {
   "cell_type": "code",
   "execution_count": 244,
   "metadata": {},
   "outputs": [],
   "source": [
    "#Checking to see if it matched the wrong county names anywhere\n",
    "#Need to work on this because right now it's not recognizing that the two columns have the same values in them\n",
    "county_pop_merge_2000['que'] = np.where((county_pop_merge_2000['State_x']==county_pop_merge_2000['State_y']), county_pop_merge_2000['State_y'], np.nan)"
   ]
  },
  {
   "cell_type": "code",
   "execution_count": 342,
   "metadata": {},
   "outputs": [],
   "source": [
    "def choose_data_by_year(dataframe, year):\n",
    "    '''This function takes a dataframe as an input and the target year as an integer, and outputs a dataframe that contains \n",
    "    only that specific year.   \n",
    "    \n",
    "    It also specifies which columns we want to keep in the final dataframe, and it renames the population column\n",
    "    so that it does not have a year-specific name.\n",
    "    '''\n",
    "    return dataframe[['County',\n",
    "       'POPESTIMATE'+str(year),\n",
    "       '% of Total Deaths', 'County Code', 'Deaths', 'Month', 'Month Code',\n",
    "       'State', 'Year']].loc[dataframe[\"Year\"]==str(year)].rename(columns={'POPESTIMATE'+str(year):'Population'})\n",
    "    \n",
    "    \n",
    "    \n"
   ]
  },
  {
   "cell_type": "code",
   "execution_count": 319,
   "metadata": {},
   "outputs": [],
   "source": [
    "def concat_dfs_vertically(dataframe1, dataframe2):\n",
    "    '''This function merges two dataframes vertically.\n",
    "    It assumes they have the same column names already.\n",
    "    '''\n",
    "    return pd.concat([dataframe1, dataframe2])\n",
    "    \n",
    "    "
   ]
  },
  {
   "cell_type": "code",
   "execution_count": 343,
   "metadata": {},
   "outputs": [],
   "source": [
    "#Getting all the data for each year in individual dataframes and then combining the new data frames\n",
    "\n",
    "all_years = pd.DataFrame()\n",
    "for year in range(2010, 2018):\n",
    "    new_df = choose_data_by_year(county_pop_merge, year)\n",
    "    all_years = concat_dfs_vertically(all_years, new_df)\n",
    "    \n",
    "for year in range(2000, 2010):\n",
    "    new_df = choose_data_by_year(county_pop_merge_2000, year)\n",
    "    all_years = concat_dfs_vertically(all_years, new_df)"
   ]
  },
  {
   "cell_type": "code",
   "execution_count": 349,
   "metadata": {},
   "outputs": [
    {
     "data": {
      "text/plain": [
       "numpy.int64"
      ]
     },
     "execution_count": 349,
     "metadata": {},
     "output_type": "execute_result"
    }
   ],
   "source": [
    "type(all_years['Population'][0])"
   ]
  },
  {
   "cell_type": "code",
   "execution_count": 351,
   "metadata": {},
   "outputs": [],
   "source": [
    "#Calculating the % of total deaths\n",
    "all_years['% of Total Deaths'] = np.int64(all_years['Deaths'])/all_years['Population']"
   ]
  },
  {
   "cell_type": "code",
   "execution_count": 354,
   "metadata": {},
   "outputs": [],
   "source": [
    "#Creating a new column that changes the units to make them easier to deal with \n",
    "all_years['% of Total Deaths (x10^6)'] = all_years['% of Total Deaths'] * 1000000"
   ]
  },
  {
   "cell_type": "code",
   "execution_count": null,
   "metadata": {},
   "outputs": [],
   "source": []
  },
  {
   "cell_type": "code",
   "execution_count": null,
   "metadata": {},
   "outputs": [],
   "source": []
  },
  {
   "cell_type": "code",
   "execution_count": null,
   "metadata": {},
   "outputs": [],
   "source": []
  },
  {
   "cell_type": "code",
   "execution_count": 108,
   "metadata": {},
   "outputs": [],
   "source": []
  },
  {
   "cell_type": "code",
   "execution_count": 111,
   "metadata": {},
   "outputs": [],
   "source": []
  },
  {
   "cell_type": "code",
   "execution_count": null,
   "metadata": {},
   "outputs": [],
   "source": []
  },
  {
   "cell_type": "code",
   "execution_count": null,
   "metadata": {},
   "outputs": [],
   "source": []
  },
  {
   "cell_type": "code",
   "execution_count": null,
   "metadata": {},
   "outputs": [],
   "source": [
    "county_pop_2010 = county_pop_merge[['STNAME', 'County',\n",
    "       'POPESTIMATE2010', 'State_x',\n",
    "       '% of Total Deaths', 'County Code', 'Deaths', 'Month', 'Month Code',\n",
    "       'State_y', 'Year', 'que']].loc[county_pop_merge[\"Year\"]=='2010']\n",
    "county_pop_2011 = county_pop_merge[['STNAME', 'County',\n",
    "       'POPESTIMATE2011', 'State_x',\n",
    "       '% of Total Deaths', 'County Code', 'Deaths', 'Month', 'Month Code',\n",
    "       'State_y', 'Year', 'que']].loc[county_pop_merge[\"Year\"]=='2011']\n",
    "county_pop_2012 = county_pop_merge[['STNAME', 'County',\n",
    "       'POPESTIMATE2012', 'State_x',\n",
    "       '% of Total Deaths', 'County Code', 'Deaths', 'Month', 'Month Code',\n",
    "       'State_y', 'Year', 'que']].loc[county_pop_merge[\"Year\"]=='2012']\n",
    "county_pop_2013 = county_pop_merge[['STNAME', 'County',\n",
    "       'POPESTIMATE2013', 'State_x',\n",
    "       '% of Total Deaths', 'County Code', 'Deaths', 'Month', 'Month Code',\n",
    "       'State_y', 'Year', 'que']].loc[county_pop_merge[\"Year\"]=='2013']\n",
    "county_pop_2014 = county_pop_merge[['STNAME', 'County',\n",
    "       'POPESTIMATE2014', 'State_x',\n",
    "       '% of Total Deaths', 'County Code', 'Deaths', 'Month', 'Month Code',\n",
    "       'State_y', 'Year', 'que']].loc[county_pop_merge[\"Year\"]=='2014']"
   ]
  },
  {
   "cell_type": "code",
   "execution_count": null,
   "metadata": {},
   "outputs": [],
   "source": [
    "#Renaming the population column\n",
    "county_pop_2010 = county_pop_2010.rename(columns={'POPESTIMATE2010':'Population'})\n",
    "county_pop_2011 = county_pop_2011.rename(columns={'POPESTIMATE2011':'Population'})\n",
    "county_pop_2012 = county_pop_2012.rename(columns={'POPESTIMATE2012':'Population'})"
   ]
  },
  {
   "cell_type": "code",
   "execution_count": null,
   "metadata": {},
   "outputs": [],
   "source": [
    "new = counties_data[\"County\"].str.split(\",\", n = 1, expand = True)"
   ]
  },
  {
   "cell_type": "code",
   "execution_count": null,
   "metadata": {},
   "outputs": [],
   "source": [
    "counties_data[\"County\"]= new[0]\n",
    "counties_data['State'] = new[1]"
   ]
  },
  {
   "cell_type": "code",
   "execution_count": null,
   "metadata": {},
   "outputs": [],
   "source": [
    "new_date = counties_data['Month Code'].str.split('/', n=1, expand=True)"
   ]
  },
  {
   "cell_type": "code",
   "execution_count": null,
   "metadata": {},
   "outputs": [],
   "source": [
    "counties_data['Year']=new_date[0]\n",
    "counties_data['Month']=new_date[1]"
   ]
  },
  {
   "cell_type": "code",
   "execution_count": null,
   "metadata": {},
   "outputs": [],
   "source": [
    "#Changing the name of the CTYNAME column in the population data 2000\n",
    "state_pops_2000_mergetest = state_pops_2000_mergetest.rename(columns={'CTYNAME':'County'})"
   ]
  },
  {
   "cell_type": "code",
   "execution_count": null,
   "metadata": {},
   "outputs": [],
   "source": [
    "#Changing the name of the CTYNAME column in the population data 2010\n",
    "state_pops_2010_mergetest = state_pops_2010_mergetest.rename(columns={'CTYNAME':'County'})"
   ]
  }
 ],
 "metadata": {
  "kernelspec": {
   "display_name": "Python 3",
   "language": "python",
   "name": "python3"
  },
  "language_info": {
   "codemirror_mode": {
    "name": "ipython",
    "version": 3
   },
   "file_extension": ".py",
   "mimetype": "text/x-python",
   "name": "python",
   "nbconvert_exporter": "python",
   "pygments_lexer": "ipython3",
   "version": "3.7.3"
  }
 },
 "nbformat": 4,
 "nbformat_minor": 2
}
