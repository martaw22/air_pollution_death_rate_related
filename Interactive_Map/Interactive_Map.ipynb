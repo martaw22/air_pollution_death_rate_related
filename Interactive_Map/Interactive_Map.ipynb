{
 "cells": [
  {
   "cell_type": "markdown",
   "metadata": {},
   "source": [
    "# Interactive Map of U.S. Counties\n",
    "\n",
    "## This map displays counties across the U.S. and via a user interaction (i.e. clicking), the respiratory death rate, air polution, and the correlation between the two across the past 15 years. Also, the predicted respiratory risk is also displayed.\n",
    "\n",
    "### Brandon Pratt, 11/10/2019"
   ]
  },
  {
   "cell_type": "markdown",
   "metadata": {},
   "source": [
    "## Import Python Libraries"
   ]
  },
  {
   "cell_type": "code",
   "execution_count": 5,
   "metadata": {},
   "outputs": [],
   "source": [
    "import chart_studio\n",
    "import json\n",
    "\n",
    "import chart_studio.plotly as py\n",
    "import matplotlib.pyplot as plt\n",
    "import numpy as np\n",
    "import pandas as pd\n",
    "import plotly.graph_objects as go\n",
    "\n",
    "from ipywidgets import Output, VBox\n",
    "from urllib.request import urlopen"
   ]
  },
  {
   "cell_type": "markdown",
   "metadata": {},
   "source": [
    "## Load Geographical Data"
   ]
  },
  {
   "cell_type": "markdown",
   "metadata": {},
   "source": [
    "### Structure of the dataframe is as follows:\n",
    "#### column 1: five-digit Federal Information Processing Standards code which uniquely identified counties \n",
    "#### coulmn 2: the rate of something (i.e. the data)"
   ]
  },
  {
   "cell_type": "code",
   "execution_count": 3,
   "metadata": {},
   "outputs": [],
   "source": [
    "# Load in county geographic data\n",
    "with urlopen('https://raw.githubusercontent.com/plotly/datasets/master/geojson-counties-fips.json') as response:\n",
    "    counties = json.load(response)\n",
    "    \n",
    "# create pandas dataframe of specified data\n",
    "df = pd.read_csv(\"https://raw.githubusercontent.com/plotly/datasets/master/fips-unemp-16.csv\",\n",
    "                   dtype={\"fips\": str})"
   ]
  },
  {
   "cell_type": "code",
   "execution_count": 9,
   "metadata": {},
   "outputs": [
    {
     "data": {
      "application/vnd.jupyter.widget-view+json": {
       "model_id": "28b412db3bf44c418df4fc9ec10f3ff4",
       "version_major": 2,
       "version_minor": 0
      },
      "text/plain": [
       "FigureWidget({\n",
       "    'data': [{'colorbar': {'title': {'text': '% unemployed'}},\n",
       "              'colorscale': [[0.…"
      ]
     },
     "metadata": {},
     "output_type": "display_data"
    },
    {
     "data": {
      "image/png": "[encoded data removed]",
      "text/plain": [
       "<Figure size 432x288 with 1 Axes>"
      ]
     },
     "metadata": {
      "needs_background": "light"
     },
     "output_type": "display_data"
    },
    {
     "data": {
      "image/png": "[encoded data removed]",
      "text/plain": [
       "<Figure size 432x288 with 1 Axes>"
      ]
     },
     "metadata": {
      "needs_background": "light"
     },
     "output_type": "display_data"
    }
   ],
   "source": [
    "# figure widget way\n",
    "\n",
    "f = go.FigureWidget([go.Choroplethmapbox(geojson=counties, locations=df.fips, z=df.unemp,colorscale=\"Viridis\", zmin=0, zmax=12,\n",
    "                                    marker_opacity=0.5, marker_line_width=0,colorbar_title=\"% unemployed\")])\n",
    "map=f.data[0]\n",
    "from plotly.callbacks import Points, InputDeviceState\n",
    "points, state = Points(), InputDeviceState()\n",
    "    \n",
    "def click_fn(trace, points, state):\n",
    "    inds = points.point_inds\n",
    "    # Do something\n",
    "    #print('bye')\n",
    "    plt.plot(np.arange(10),np.arange(10),color='Blue')\n",
    "    \n",
    "map.on_click(click_fn)\n",
    "\n",
    "f\n",
    "f.update_layout(mapbox_style=\"carto-positron\",mapbox_zoom=3, mapbox_center = {\"lat\": 37.0902, \"lon\": -95.7129},\n",
    "               title_text = 'Unemployment Rate', geo_scope='usa')\n",
    "\n",
    "#url = py.plot(fig, filename=\"us_map\", auto_open=False)...too big of a file for URL"
   ]
  }
 ],
 "metadata": {
  "kernelspec": {
   "display_name": "Python 3",
   "language": "python",
   "name": "python3"
  },
  "language_info": {
   "codemirror_mode": {
    "name": "ipython",
    "version": 3
   },
   "file_extension": ".py",
   "mimetype": "text/x-python",
   "name": "python",
   "nbconvert_exporter": "python",
   "pygments_lexer": "ipython3",
   "version": "3.7.3"
  }
 },
 "nbformat": 4,
 "nbformat_minor": 2
}
